{
 "cells": [
  {
   "cell_type": "markdown",
   "id": "ec07ab2d",
   "metadata": {},
   "source": [
    "# Boston Area Assessment"
   ]
  },
  {
   "cell_type": "markdown",
   "id": "f27910bd",
   "metadata": {},
   "source": [
    "## Import Datasets"
   ]
  },
  {
   "cell_type": "code",
   "execution_count": 1,
   "id": "ab6a9fb3",
   "metadata": {},
   "outputs": [],
   "source": [
    "import pandas as pd\n",
    "import numpy as np"
   ]
  },
  {
   "cell_type": "code",
   "execution_count": 2,
   "id": "5cf409ee",
   "metadata": {},
   "outputs": [
    {
     "name": "stderr",
     "output_type": "stream",
     "text": [
      "/var/folders/6c/9skhv5gd3dd6z1g2y4xnf3140000gn/T/ipykernel_54190/2376971093.py:2: DtypeWarning: Columns (60,63) have mixed types. Specify dtype option on import or set low_memory=False.\n",
      "  price_dataset2 = pd.read_csv('../datasets/price_datasets/fy2016.csv')\n",
      "/var/folders/6c/9skhv5gd3dd6z1g2y4xnf3140000gn/T/ipykernel_54190/2376971093.py:3: DtypeWarning: Columns (60,63) have mixed types. Specify dtype option on import or set low_memory=False.\n",
      "  price_dataset3 = pd.read_csv('../datasets/price_datasets/fy2017.csv')\n",
      "/var/folders/6c/9skhv5gd3dd6z1g2y4xnf3140000gn/T/ipykernel_54190/2376971093.py:4: DtypeWarning: Columns (15,60,63) have mixed types. Specify dtype option on import or set low_memory=False.\n",
      "  price_dataset4 = pd.read_csv('../datasets/price_datasets/fy2018.csv')\n",
      "/var/folders/6c/9skhv5gd3dd6z1g2y4xnf3140000gn/T/ipykernel_54190/2376971093.py:5: DtypeWarning: Columns (15,60) have mixed types. Specify dtype option on import or set low_memory=False.\n",
      "  price_dataset5 = pd.read_csv('../datasets/price_datasets/fy2019.csv')\n",
      "/var/folders/6c/9skhv5gd3dd6z1g2y4xnf3140000gn/T/ipykernel_54190/2376971093.py:6: DtypeWarning: Columns (6,15,27,28,29,34,35,36,37,38,39,40,41,42,44,45,46,47,48,58,59,64,65,66,67,68,69,70,72,73,74) have mixed types. Specify dtype option on import or set low_memory=False.\n",
      "  price_dataset6 = pd.read_csv('../datasets/price_datasets/fy2020.csv')\n",
      "/var/folders/6c/9skhv5gd3dd6z1g2y4xnf3140000gn/T/ipykernel_54190/2376971093.py:10: DtypeWarning: Columns (20) have mixed types. Specify dtype option on import or set low_memory=False.\n",
      "  price_dataset9 = pd.read_csv('../datasets/price_datasets/fy2024.csv')\n",
      "/var/folders/6c/9skhv5gd3dd6z1g2y4xnf3140000gn/T/ipykernel_54190/2376971093.py:11: DtypeWarning: Columns (21) have mixed types. Specify dtype option on import or set low_memory=False.\n",
      "  price_dataset9 = pd.read_csv('../datasets/price_datasets/fy2025.csv')\n"
     ]
    }
   ],
   "source": [
    "price_dataset1 = pd.read_csv('../datasets/price_datasets/fy2015.csv')\n",
    "price_dataset2 = pd.read_csv('../datasets/price_datasets/fy2016.csv')\n",
    "price_dataset3 = pd.read_csv('../datasets/price_datasets/fy2017.csv')\n",
    "price_dataset4 = pd.read_csv('../datasets/price_datasets/fy2018.csv')\n",
    "price_dataset5 = pd.read_csv('../datasets/price_datasets/fy2019.csv')\n",
    "price_dataset6 = pd.read_csv('../datasets/price_datasets/fy2020.csv')\n",
    "price_dataset7 = pd.read_csv('../datasets/price_datasets/fy2021.csv')\n",
    "price_dataset8 = pd.read_csv('../datasets/price_datasets/fy2022.csv')\n",
    "price_dataset9 = pd.read_csv('../datasets/price_datasets/fy2023.csv')\n",
    "price_dataset9 = pd.read_csv('../datasets/price_datasets/fy2024.csv')\n",
    "price_dataset9 = pd.read_csv('../datasets/price_datasets/fy2025.csv')"
   ]
  },
  {
   "cell_type": "markdown",
   "id": "cb1a6a0a",
   "metadata": {},
   "source": [
    "## Preprocessing 1"
   ]
  },
  {
   "cell_type": "code",
   "execution_count": 31,
   "id": "5414f451",
   "metadata": {},
   "outputs": [
    {
     "name": "stdout",
     "output_type": "stream",
     "text": [
      "Dataset 1 shape:  (168115, 56)\n",
      "Dataset 2 shape:  (169199, 77)\n",
      "Dataset 3 shape:  (170910, 75)\n",
      "Dataset 4 shape:  (172841, 75)\n",
      "Dataset 5 shape:  (174668, 75)\n",
      "Dataset 6 shape:  (175052, 75)\n",
      "Dataset 7 shape:  (177091, 63)\n",
      "Dataset 8 shape:  (178598, 64)\n",
      "Dataset 9 shape:  (183445, 66)\n",
      "Total rows in all datasets: 1569919\n"
     ]
    }
   ],
   "source": [
    "for i in range(1,10):\n",
    "    print(f\"Dataset {i} shape: \", eval(f\"price_dataset{i}.shape\"))\n",
    "\n",
    "print(f\"Total rows in all datasets: {sum([eval(f'price_dataset{i}.shape[0]') for i in range(1,10)])}\")"
   ]
  },
  {
   "cell_type": "code",
   "execution_count": 32,
   "id": "0b9eaf7b",
   "metadata": {},
   "outputs": [
    {
     "name": "stdout",
     "output_type": "stream",
     "text": [
      "Combined dataset shape:  (1569919, 139)\n"
     ]
    }
   ],
   "source": [
    "combined_price_data = pd.concat([eval(f\"price_dataset{i}\") for i in range(1,10)], ignore_index=True)\n",
    "print(\"Combined dataset shape: \", combined_price_data.shape)"
   ]
  },
  {
   "cell_type": "code",
   "execution_count": 33,
   "id": "d21fc9a5",
   "metadata": {},
   "outputs": [
    {
     "data": {
      "text/html": [
       "<div>\n",
       "<style scoped>\n",
       "    .dataframe tbody tr th:only-of-type {\n",
       "        vertical-align: middle;\n",
       "    }\n",
       "\n",
       "    .dataframe tbody tr th {\n",
       "        vertical-align: top;\n",
       "    }\n",
       "\n",
       "    .dataframe thead th {\n",
       "        text-align: right;\n",
       "    }\n",
       "</style>\n",
       "<table border=\"1\" class=\"dataframe\">\n",
       "  <thead>\n",
       "    <tr style=\"text-align: right;\">\n",
       "      <th></th>\n",
       "      <th>PID</th>\n",
       "      <th>CM_ID</th>\n",
       "      <th>ST_NUM</th>\n",
       "      <th>ST_NAME</th>\n",
       "      <th>ST_NAME_SUF</th>\n",
       "      <th>UNIT_NUM</th>\n",
       "      <th>ZIPCODE</th>\n",
       "      <th>full_address</th>\n",
       "      <th>PTYPE</th>\n",
       "      <th>LU</th>\n",
       "      <th>...</th>\n",
       "      <th>ST_NUM2</th>\n",
       "      <th>ZIP_CODE</th>\n",
       "      <th>MAIL_STREET_ADDRESS</th>\n",
       "      <th>MAIL_ZIP_CODE</th>\n",
       "      <th>SFYI_VALUE</th>\n",
       "      <th>GROSS_TAX</th>\n",
       "      <th>EXT_FNISHED</th>\n",
       "      <th>KITCHENS</th>\n",
       "      <th>HEAT_SYSTEM</th>\n",
       "      <th>FIREPLACES</th>\n",
       "    </tr>\n",
       "  </thead>\n",
       "  <tbody>\n",
       "    <tr>\n",
       "      <th>0</th>\n",
       "      <td>1302299000_</td>\n",
       "      <td>NaN</td>\n",
       "      <td>199</td>\n",
       "      <td>SAVIN HILL</td>\n",
       "      <td>AV</td>\n",
       "      <td>NaN</td>\n",
       "      <td>02125_</td>\n",
       "      <td>199   SAVIN HILL AV</td>\n",
       "      <td>105.0</td>\n",
       "      <td>R3</td>\n",
       "      <td>...</td>\n",
       "      <td>NaN</td>\n",
       "      <td>NaN</td>\n",
       "      <td>NaN</td>\n",
       "      <td>NaN</td>\n",
       "      <td>NaN</td>\n",
       "      <td>NaN</td>\n",
       "      <td>NaN</td>\n",
       "      <td>NaN</td>\n",
       "      <td>NaN</td>\n",
       "      <td>NaN</td>\n",
       "    </tr>\n",
       "    <tr>\n",
       "      <th>1</th>\n",
       "      <td>1302298000_</td>\n",
       "      <td>NaN</td>\n",
       "      <td>195</td>\n",
       "      <td>SAVIN HILL</td>\n",
       "      <td>AV</td>\n",
       "      <td>NaN</td>\n",
       "      <td>02125_</td>\n",
       "      <td>195   SAVIN HILL AV</td>\n",
       "      <td>104.0</td>\n",
       "      <td>R2</td>\n",
       "      <td>...</td>\n",
       "      <td>NaN</td>\n",
       "      <td>NaN</td>\n",
       "      <td>NaN</td>\n",
       "      <td>NaN</td>\n",
       "      <td>NaN</td>\n",
       "      <td>NaN</td>\n",
       "      <td>NaN</td>\n",
       "      <td>NaN</td>\n",
       "      <td>NaN</td>\n",
       "      <td>NaN</td>\n",
       "    </tr>\n",
       "    <tr>\n",
       "      <th>2</th>\n",
       "      <td>1302297000_</td>\n",
       "      <td>NaN</td>\n",
       "      <td>193</td>\n",
       "      <td>SAVIN HILL</td>\n",
       "      <td>AV</td>\n",
       "      <td>NaN</td>\n",
       "      <td>02125_</td>\n",
       "      <td>193   SAVIN HILL AV</td>\n",
       "      <td>104.0</td>\n",
       "      <td>R2</td>\n",
       "      <td>...</td>\n",
       "      <td>NaN</td>\n",
       "      <td>NaN</td>\n",
       "      <td>NaN</td>\n",
       "      <td>NaN</td>\n",
       "      <td>NaN</td>\n",
       "      <td>NaN</td>\n",
       "      <td>NaN</td>\n",
       "      <td>NaN</td>\n",
       "      <td>NaN</td>\n",
       "      <td>NaN</td>\n",
       "    </tr>\n",
       "    <tr>\n",
       "      <th>3</th>\n",
       "      <td>1302296000_</td>\n",
       "      <td>NaN</td>\n",
       "      <td>6 8</td>\n",
       "      <td>SOUTHVIEW</td>\n",
       "      <td>ST</td>\n",
       "      <td>NaN</td>\n",
       "      <td>02125_</td>\n",
       "      <td>6 8 SOUTHVIEW ST</td>\n",
       "      <td>104.0</td>\n",
       "      <td>R2</td>\n",
       "      <td>...</td>\n",
       "      <td>NaN</td>\n",
       "      <td>NaN</td>\n",
       "      <td>NaN</td>\n",
       "      <td>NaN</td>\n",
       "      <td>NaN</td>\n",
       "      <td>NaN</td>\n",
       "      <td>NaN</td>\n",
       "      <td>NaN</td>\n",
       "      <td>NaN</td>\n",
       "      <td>NaN</td>\n",
       "    </tr>\n",
       "    <tr>\n",
       "      <th>4</th>\n",
       "      <td>1302295000_</td>\n",
       "      <td>NaN</td>\n",
       "      <td>10 12</td>\n",
       "      <td>SOUTHVIEW</td>\n",
       "      <td>ST</td>\n",
       "      <td>NaN</td>\n",
       "      <td>02125_</td>\n",
       "      <td>10 12 SOUTHVIEW ST</td>\n",
       "      <td>104.0</td>\n",
       "      <td>R2</td>\n",
       "      <td>...</td>\n",
       "      <td>NaN</td>\n",
       "      <td>NaN</td>\n",
       "      <td>NaN</td>\n",
       "      <td>NaN</td>\n",
       "      <td>NaN</td>\n",
       "      <td>NaN</td>\n",
       "      <td>NaN</td>\n",
       "      <td>NaN</td>\n",
       "      <td>NaN</td>\n",
       "      <td>NaN</td>\n",
       "    </tr>\n",
       "  </tbody>\n",
       "</table>\n",
       "<p>5 rows × 139 columns</p>\n",
       "</div>"
      ],
      "text/plain": [
       "           PID CM_ID ST_NUM     ST_NAME ST_NAME_SUF UNIT_NUM ZIPCODE  \\\n",
       "0  1302299000_   NaN    199  SAVIN HILL          AV      NaN  02125_   \n",
       "1  1302298000_   NaN    195  SAVIN HILL          AV      NaN  02125_   \n",
       "2  1302297000_   NaN    193  SAVIN HILL          AV      NaN  02125_   \n",
       "3  1302296000_   NaN    6 8   SOUTHVIEW          ST      NaN  02125_   \n",
       "4  1302295000_   NaN  10 12   SOUTHVIEW          ST      NaN  02125_   \n",
       "\n",
       "           full_address  PTYPE  LU  ... ST_NUM2 ZIP_CODE MAIL_STREET_ADDRESS  \\\n",
       "0  199   SAVIN HILL AV   105.0  R3  ...     NaN      NaN                 NaN   \n",
       "1  195   SAVIN HILL AV   104.0  R2  ...     NaN      NaN                 NaN   \n",
       "2  193   SAVIN HILL AV   104.0  R2  ...     NaN      NaN                 NaN   \n",
       "3     6 8 SOUTHVIEW ST   104.0  R2  ...     NaN      NaN                 NaN   \n",
       "4   10 12 SOUTHVIEW ST   104.0  R2  ...     NaN      NaN                 NaN   \n",
       "\n",
       "  MAIL_ZIP_CODE SFYI_VALUE   GROSS_TAX   EXT_FNISHED  KITCHENS HEAT_SYSTEM  \\\n",
       "0           NaN        NaN          NaN          NaN       NaN         NaN   \n",
       "1           NaN        NaN          NaN          NaN       NaN         NaN   \n",
       "2           NaN        NaN          NaN          NaN       NaN         NaN   \n",
       "3           NaN        NaN          NaN          NaN       NaN         NaN   \n",
       "4           NaN        NaN          NaN          NaN       NaN         NaN   \n",
       "\n",
       "  FIREPLACES  \n",
       "0        NaN  \n",
       "1        NaN  \n",
       "2        NaN  \n",
       "3        NaN  \n",
       "4        NaN  \n",
       "\n",
       "[5 rows x 139 columns]"
      ]
     },
     "execution_count": 33,
     "metadata": {},
     "output_type": "execute_result"
    }
   ],
   "source": [
    "combined_price_data.head()"
   ]
  },
  {
   "cell_type": "code",
   "execution_count": 34,
   "id": "9c4a2b4e",
   "metadata": {},
   "outputs": [
    {
     "data": {
      "text/plain": [
       "KITCHENS\n",
       "1.0    103426\n",
       "0.0     35984\n",
       "2.0     17583\n",
       "3.0     13836\n",
       "4.0       143\n",
       "5.0         1\n",
       "Name: count, dtype: int64"
      ]
     },
     "execution_count": 34,
     "metadata": {},
     "output_type": "execute_result"
    }
   ],
   "source": [
    "combined_price_data[\"KITCHENS\"].value_counts()"
   ]
  },
  {
   "cell_type": "code",
   "execution_count": 35,
   "id": "75595b45",
   "metadata": {},
   "outputs": [
    {
     "data": {
      "text/plain": [
       "HEAT_SYSTEM\n",
       "I - Indiv. Cntrl      45341\n",
       "Y - Self Contained    19247\n",
       "C - Common             8041\n",
       "N - None                967\n",
       "1                        58\n",
       "Name: count, dtype: int64"
      ]
     },
     "execution_count": 35,
     "metadata": {},
     "output_type": "execute_result"
    }
   ],
   "source": [
    "combined_price_data[\"HEAT_SYSTEM\"].value_counts()"
   ]
  },
  {
   "cell_type": "code",
   "execution_count": 48,
   "id": "09d12b0a",
   "metadata": {},
   "outputs": [
    {
     "name": "stdout",
     "output_type": "stream",
     "text": [
      "Null Values: 1041187\n"
     ]
    }
   ],
   "source": [
    "# Since \"TOTAL_VALUE\" is a key column for price prediction, we keep the data points that have it\n",
    "print(f\"Null Values: {combined_price_data['TOTAL_VALUE'].isna().sum()}\")"
   ]
  },
  {
   "cell_type": "markdown",
   "id": "3e8c5617",
   "metadata": {},
   "source": [
    "# === Visualize Start Here ==="
   ]
  },
  {
   "cell_type": "code",
   "execution_count": null,
   "id": "f5af0399",
   "metadata": {},
   "outputs": [],
   "source": []
  },
  {
   "cell_type": "markdown",
   "id": "2b494230",
   "metadata": {},
   "source": [
    "# === Visualize Ends Here ==="
   ]
  },
  {
   "cell_type": "code",
   "execution_count": 37,
   "id": "338c64bf",
   "metadata": {},
   "outputs": [
    {
     "name": "stdout",
     "output_type": "stream",
     "text": [
      "Cleaned combined dataset shape:  (528732, 139)\n"
     ]
    }
   ],
   "source": [
    "clean_combined_price_data = combined_price_data.dropna(subset=[\"TOTAL_VALUE\"])\n",
    "print(\"Cleaned combined dataset shape: \", clean_combined_price_data.shape)"
   ]
  },
  {
   "cell_type": "code",
   "execution_count": 38,
   "id": "cd757a45",
   "metadata": {},
   "outputs": [
    {
     "name": "stdout",
     "output_type": "stream",
     "text": [
      "These are all the columns: \n",
      " Index(['PID', 'CM_ID', 'ST_NUM', 'ST_NAME', 'ST_NAME_SUF', 'UNIT_NUM',\n",
      "       'ZIPCODE', 'full_address', 'PTYPE', 'LU',\n",
      "       ...\n",
      "       'ST_NUM2', 'ZIP_CODE', 'MAIL_STREET_ADDRESS', 'MAIL_ZIP_CODE',\n",
      "       'SFYI_VALUE', ' GROSS_TAX ', 'EXT_FNISHED', 'KITCHENS', 'HEAT_SYSTEM',\n",
      "       'FIREPLACES'],\n",
      "      dtype='object', length=139)\n"
     ]
    }
   ],
   "source": [
    "print(\"These are all the columns: \\n\", clean_combined_price_data.columns)"
   ]
  },
  {
   "cell_type": "code",
   "execution_count": 39,
   "id": "e0174b5d",
   "metadata": {},
   "outputs": [
    {
     "data": {
      "text/plain": [
       "FULL_BTH\n",
       "1.0     193796\n",
       "2.0     131971\n",
       "0.0      83808\n",
       "3.0      58824\n",
       "4.0       7252\n",
       "6.0       1571\n",
       "5.0       1381\n",
       "7.0        173\n",
       "8.0         91\n",
       "9.0         32\n",
       "13.0         4\n",
       "12.0         4\n",
       "17.0         3\n",
       "10.0         3\n",
       "15.0         2\n",
       "11.0         1\n",
       "14.0         1\n",
       "21.0         1\n",
       "Name: count, dtype: int64"
      ]
     },
     "execution_count": 39,
     "metadata": {},
     "output_type": "execute_result"
    }
   ],
   "source": [
    "clean_combined_price_data[\"FULL_BTH\"].value_counts()"
   ]
  },
  {
   "cell_type": "code",
   "execution_count": 40,
   "id": "017c7e75",
   "metadata": {},
   "outputs": [
    {
     "data": {
      "text/plain": [
       "BED_RMS\n",
       "2.0     111185\n",
       "3.0      81413\n",
       "1.0      65697\n",
       "0.0      53553\n",
       "4.0      45817\n",
       "6.0      30369\n",
       "5.0      24503\n",
       "9.0       9885\n",
       "8.0       6929\n",
       "7.0       6613\n",
       "11.0      1177\n",
       "10.0      1115\n",
       "12.0       979\n",
       "14.0       148\n",
       "13.0        92\n",
       "15.0        59\n",
       "16.0         7\n",
       "17.0         7\n",
       "18.0         4\n",
       "21.0         1\n",
       "Name: count, dtype: int64"
      ]
     },
     "execution_count": 40,
     "metadata": {},
     "output_type": "execute_result"
    }
   ],
   "source": [
    "clean_combined_price_data[\"BED_RMS\"].value_counts()"
   ]
  },
  {
   "cell_type": "code",
   "execution_count": 41,
   "id": "312992bd",
   "metadata": {},
   "outputs": [
    {
     "data": {
      "text/html": [
       "<div>\n",
       "<style scoped>\n",
       "    .dataframe tbody tr th:only-of-type {\n",
       "        vertical-align: middle;\n",
       "    }\n",
       "\n",
       "    .dataframe tbody tr th {\n",
       "        vertical-align: top;\n",
       "    }\n",
       "\n",
       "    .dataframe thead th {\n",
       "        text-align: right;\n",
       "    }\n",
       "</style>\n",
       "<table border=\"1\" class=\"dataframe\">\n",
       "  <thead>\n",
       "    <tr style=\"text-align: right;\">\n",
       "      <th></th>\n",
       "      <th>ZIPCODE</th>\n",
       "      <th>TOTAL_VALUE</th>\n",
       "      <th>BED_RMS</th>\n",
       "      <th>FULL_BTH</th>\n",
       "    </tr>\n",
       "  </thead>\n",
       "  <tbody>\n",
       "    <tr>\n",
       "      <th>1030785</th>\n",
       "      <td>2128</td>\n",
       "      <td>$719,400.00</td>\n",
       "      <td>6.0</td>\n",
       "      <td>3.0</td>\n",
       "    </tr>\n",
       "    <tr>\n",
       "      <th>1030786</th>\n",
       "      <td>2128</td>\n",
       "      <td>$744,800.00</td>\n",
       "      <td>3.0</td>\n",
       "      <td>3.0</td>\n",
       "    </tr>\n",
       "    <tr>\n",
       "      <th>1030787</th>\n",
       "      <td>2128</td>\n",
       "      <td>$730,500.00</td>\n",
       "      <td>5.0</td>\n",
       "      <td>3.0</td>\n",
       "    </tr>\n",
       "    <tr>\n",
       "      <th>1030788</th>\n",
       "      <td>2128</td>\n",
       "      <td>$667,900.00</td>\n",
       "      <td>5.0</td>\n",
       "      <td>3.0</td>\n",
       "    </tr>\n",
       "    <tr>\n",
       "      <th>1030789</th>\n",
       "      <td>2128</td>\n",
       "      <td>$714,200.00</td>\n",
       "      <td>6.0</td>\n",
       "      <td>3.0</td>\n",
       "    </tr>\n",
       "  </tbody>\n",
       "</table>\n",
       "</div>"
      ],
      "text/plain": [
       "        ZIPCODE   TOTAL_VALUE  BED_RMS  FULL_BTH\n",
       "1030785    2128  $719,400.00       6.0       3.0\n",
       "1030786    2128  $744,800.00       3.0       3.0\n",
       "1030787    2128  $730,500.00       5.0       3.0\n",
       "1030788    2128  $667,900.00       5.0       3.0\n",
       "1030789    2128  $714,200.00       6.0       3.0"
      ]
     },
     "execution_count": 41,
     "metadata": {},
     "output_type": "execute_result"
    }
   ],
   "source": [
    "clean_combined_price_data = clean_combined_price_data[[\"ZIPCODE\", \"TOTAL_VALUE\", \"BED_RMS\", \"FULL_BTH\"]]\n",
    "clean_combined_price_data.head()"
   ]
  },
  {
   "cell_type": "code",
   "execution_count": 42,
   "id": "bc7c73ca",
   "metadata": {},
   "outputs": [
    {
     "data": {
      "text/plain": [
       "(528732, 4)"
      ]
     },
     "execution_count": 42,
     "metadata": {},
     "output_type": "execute_result"
    }
   ],
   "source": [
    "clean_combined_price_data.shape"
   ]
  },
  {
   "cell_type": "code",
   "execution_count": 44,
   "id": "27a0cdde",
   "metadata": {},
   "outputs": [
    {
     "data": {
      "text/plain": [
       "(388034, 4)"
      ]
     },
     "execution_count": 44,
     "metadata": {},
     "output_type": "execute_result"
    }
   ],
   "source": [
    "# Since there are certain classes with very few data points, we will remove those classes to bring balance to the dataset\n",
    "# Compute counts per BED_RMS and filter rows whose BED_RMS has at least 30,000 occurrences\n",
    "bed_counts = clean_combined_price_data[\"BED_RMS\"].value_counts()\n",
    "clean_combined_price_data = clean_combined_price_data[clean_combined_price_data[\"BED_RMS\"].map(bed_counts) >= 30000]\n",
    "clean_combined_price_data.shape"
   ]
  },
  {
   "cell_type": "code",
   "execution_count": 45,
   "id": "dab33c99",
   "metadata": {},
   "outputs": [
    {
     "data": {
      "text/plain": [
       "FULL_BTH\n",
       "1.0     187999\n",
       "2.0     115833\n",
       "0.0      47503\n",
       "3.0      32249\n",
       "4.0       3505\n",
       "5.0        492\n",
       "6.0        376\n",
       "7.0         30\n",
       "8.0         15\n",
       "9.0          6\n",
       "13.0         2\n",
       "Name: count, dtype: int64"
      ]
     },
     "execution_count": 45,
     "metadata": {},
     "output_type": "execute_result"
    }
   ],
   "source": [
    "clean_combined_price_data[\"FULL_BTH\"].value_counts()"
   ]
  },
  {
   "cell_type": "code",
   "execution_count": 46,
   "id": "f1f6cea4",
   "metadata": {},
   "outputs": [
    {
     "data": {
      "text/plain": [
       "(383584, 4)"
      ]
     },
     "execution_count": 46,
     "metadata": {},
     "output_type": "execute_result"
    }
   ],
   "source": [
    "# Since there is a big gap of occurrences between certain classes of FULL_BTH, we will remove those classes with very few data points\n",
    "# Compute counts per FULL_BTH and filter rows whose FULL_BTH has at least 30,000 occurrences\n",
    "bath_counts = clean_combined_price_data[\"FULL_BTH\"].value_counts()\n",
    "clean_combined_price_data = clean_combined_price_data[clean_combined_price_data[\"FULL_BTH\"].map(bath_counts) >= 30000]\n",
    "clean_combined_price_data.shape"
   ]
  }
 ],
 "metadata": {
  "kernelspec": {
   "display_name": ".venv (3.13.7)",
   "language": "python",
   "name": "python3"
  },
  "language_info": {
   "codemirror_mode": {
    "name": "ipython",
    "version": 3
   },
   "file_extension": ".py",
   "mimetype": "text/x-python",
   "name": "python",
   "nbconvert_exporter": "python",
   "pygments_lexer": "ipython3",
   "version": "3.13.7"
  }
 },
 "nbformat": 4,
 "nbformat_minor": 5
}
